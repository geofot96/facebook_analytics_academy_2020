{
 "cells": [
  {
   "cell_type": "markdown",
   "metadata": {},
   "source": [
    "## Data loading and merging"
   ]
  },
  {
   "cell_type": "code",
   "execution_count": 1,
   "metadata": {},
   "outputs": [],
   "source": [
    "import pandas as pd"
   ]
  },
  {
   "cell_type": "code",
   "execution_count": 2,
   "metadata": {},
   "outputs": [],
   "source": [
    "import numpy as np"
   ]
  },
  {
   "cell_type": "code",
   "execution_count": 3,
   "metadata": {},
   "outputs": [],
   "source": [
    "df1 = pd.read_csv(\"./AA Data Challenge Datasets/prod_A.csv\")"
   ]
  },
  {
   "cell_type": "code",
   "execution_count": 4,
   "metadata": {},
   "outputs": [
    {
     "data": {
      "text/html": [
       "<div>\n",
       "<style scoped>\n",
       "    .dataframe tbody tr th:only-of-type {\n",
       "        vertical-align: middle;\n",
       "    }\n",
       "\n",
       "    .dataframe tbody tr th {\n",
       "        vertical-align: top;\n",
       "    }\n",
       "\n",
       "    .dataframe thead th {\n",
       "        text-align: right;\n",
       "    }\n",
       "</style>\n",
       "<table border=\"1\" class=\"dataframe\">\n",
       "  <thead>\n",
       "    <tr style=\"text-align: right;\">\n",
       "      <th></th>\n",
       "      <th>ds</th>\n",
       "      <th>userid</th>\n",
       "    </tr>\n",
       "  </thead>\n",
       "  <tbody>\n",
       "    <tr>\n",
       "      <th>0</th>\n",
       "      <td>2020-01-01</td>\n",
       "      <td>3384044</td>\n",
       "    </tr>\n",
       "    <tr>\n",
       "      <th>1</th>\n",
       "      <td>2020-01-01</td>\n",
       "      <td>5543378</td>\n",
       "    </tr>\n",
       "    <tr>\n",
       "      <th>2</th>\n",
       "      <td>2020-01-01</td>\n",
       "      <td>5773857</td>\n",
       "    </tr>\n",
       "    <tr>\n",
       "      <th>3</th>\n",
       "      <td>2020-01-01</td>\n",
       "      <td>5526092</td>\n",
       "    </tr>\n",
       "    <tr>\n",
       "      <th>4</th>\n",
       "      <td>2020-01-01</td>\n",
       "      <td>6972245</td>\n",
       "    </tr>\n",
       "  </tbody>\n",
       "</table>\n",
       "</div>"
      ],
      "text/plain": [
       "           ds   userid\n",
       "0  2020-01-01  3384044\n",
       "1  2020-01-01  5543378\n",
       "2  2020-01-01  5773857\n",
       "3  2020-01-01  5526092\n",
       "4  2020-01-01  6972245"
      ]
     },
     "execution_count": 4,
     "metadata": {},
     "output_type": "execute_result"
    }
   ],
   "source": [
    "df1.head()"
   ]
  },
  {
   "cell_type": "code",
   "execution_count": 5,
   "metadata": {},
   "outputs": [
    {
     "data": {
      "text/plain": [
       "(678802, 2)"
      ]
     },
     "execution_count": 5,
     "metadata": {},
     "output_type": "execute_result"
    }
   ],
   "source": [
    "df1.shape"
   ]
  },
  {
   "cell_type": "code",
   "execution_count": 6,
   "metadata": {},
   "outputs": [],
   "source": [
    "df1.columns = [\"ds1\", \"user_id\"]"
   ]
  },
  {
   "cell_type": "code",
   "execution_count": 7,
   "metadata": {},
   "outputs": [],
   "source": [
    "df2 = pd.read_csv(\"./AA Data Challenge Datasets/prod_B.csv\")"
   ]
  },
  {
   "cell_type": "code",
   "execution_count": 8,
   "metadata": {},
   "outputs": [
    {
     "data": {
      "text/html": [
       "<div>\n",
       "<style scoped>\n",
       "    .dataframe tbody tr th:only-of-type {\n",
       "        vertical-align: middle;\n",
       "    }\n",
       "\n",
       "    .dataframe tbody tr th {\n",
       "        vertical-align: top;\n",
       "    }\n",
       "\n",
       "    .dataframe thead th {\n",
       "        text-align: right;\n",
       "    }\n",
       "</style>\n",
       "<table border=\"1\" class=\"dataframe\">\n",
       "  <thead>\n",
       "    <tr style=\"text-align: right;\">\n",
       "      <th></th>\n",
       "      <th>ds</th>\n",
       "      <th>userid</th>\n",
       "    </tr>\n",
       "  </thead>\n",
       "  <tbody>\n",
       "    <tr>\n",
       "      <th>0</th>\n",
       "      <td>2020-01-01</td>\n",
       "      <td>3384044</td>\n",
       "    </tr>\n",
       "    <tr>\n",
       "      <th>1</th>\n",
       "      <td>2020-01-01</td>\n",
       "      <td>5543378</td>\n",
       "    </tr>\n",
       "    <tr>\n",
       "      <th>2</th>\n",
       "      <td>2020-01-01</td>\n",
       "      <td>5773857</td>\n",
       "    </tr>\n",
       "    <tr>\n",
       "      <th>3</th>\n",
       "      <td>2020-01-01</td>\n",
       "      <td>5526092</td>\n",
       "    </tr>\n",
       "    <tr>\n",
       "      <th>4</th>\n",
       "      <td>2020-01-01</td>\n",
       "      <td>6972245</td>\n",
       "    </tr>\n",
       "  </tbody>\n",
       "</table>\n",
       "</div>"
      ],
      "text/plain": [
       "           ds   userid\n",
       "0  2020-01-01  3384044\n",
       "1  2020-01-01  5543378\n",
       "2  2020-01-01  5773857\n",
       "3  2020-01-01  5526092\n",
       "4  2020-01-01  6972245"
      ]
     },
     "execution_count": 8,
     "metadata": {},
     "output_type": "execute_result"
    }
   ],
   "source": [
    "df2.head()"
   ]
  },
  {
   "cell_type": "code",
   "execution_count": 9,
   "metadata": {},
   "outputs": [
    {
     "data": {
      "text/plain": [
       "(233853, 2)"
      ]
     },
     "execution_count": 9,
     "metadata": {},
     "output_type": "execute_result"
    }
   ],
   "source": [
    "df2.shape"
   ]
  },
  {
   "cell_type": "code",
   "execution_count": 10,
   "metadata": {},
   "outputs": [],
   "source": [
    "df2.columns = [\"ds2\", \"user_id\"]"
   ]
  },
  {
   "cell_type": "code",
   "execution_count": 11,
   "metadata": {},
   "outputs": [],
   "source": [
    "df3 = pd.read_csv(\"./AA Data Challenge Datasets/user_data.csv\")"
   ]
  },
  {
   "cell_type": "code",
   "execution_count": 12,
   "metadata": {},
   "outputs": [
    {
     "data": {
      "text/html": [
       "<div>\n",
       "<style scoped>\n",
       "    .dataframe tbody tr th:only-of-type {\n",
       "        vertical-align: middle;\n",
       "    }\n",
       "\n",
       "    .dataframe tbody tr th {\n",
       "        vertical-align: top;\n",
       "    }\n",
       "\n",
       "    .dataframe thead th {\n",
       "        text-align: right;\n",
       "    }\n",
       "</style>\n",
       "<table border=\"1\" class=\"dataframe\">\n",
       "  <thead>\n",
       "    <tr style=\"text-align: right;\">\n",
       "      <th></th>\n",
       "      <th>user_id</th>\n",
       "      <th>country</th>\n",
       "      <th>age</th>\n",
       "      <th>gender</th>\n",
       "      <th>start_date</th>\n",
       "    </tr>\n",
       "  </thead>\n",
       "  <tbody>\n",
       "    <tr>\n",
       "      <th>0</th>\n",
       "      <td>9541124</td>\n",
       "      <td>DK</td>\n",
       "      <td>22</td>\n",
       "      <td>male</td>\n",
       "      <td>2018-05-05</td>\n",
       "    </tr>\n",
       "    <tr>\n",
       "      <th>1</th>\n",
       "      <td>5946065</td>\n",
       "      <td>US</td>\n",
       "      <td>15</td>\n",
       "      <td>male</td>\n",
       "      <td>2018-01-24</td>\n",
       "    </tr>\n",
       "    <tr>\n",
       "      <th>2</th>\n",
       "      <td>4180986</td>\n",
       "      <td>US</td>\n",
       "      <td>32</td>\n",
       "      <td>female</td>\n",
       "      <td>2018-12-17</td>\n",
       "    </tr>\n",
       "    <tr>\n",
       "      <th>3</th>\n",
       "      <td>5533917</td>\n",
       "      <td>US</td>\n",
       "      <td>70</td>\n",
       "      <td>male</td>\n",
       "      <td>2018-03-07</td>\n",
       "    </tr>\n",
       "    <tr>\n",
       "      <th>4</th>\n",
       "      <td>9531648</td>\n",
       "      <td>US</td>\n",
       "      <td>39</td>\n",
       "      <td>male</td>\n",
       "      <td>2018-09-29</td>\n",
       "    </tr>\n",
       "  </tbody>\n",
       "</table>\n",
       "</div>"
      ],
      "text/plain": [
       "   user_id country  age  gender  start_date\n",
       "0  9541124      DK   22    male  2018-05-05\n",
       "1  5946065      US   15    male  2018-01-24\n",
       "2  4180986      US   32  female  2018-12-17\n",
       "3  5533917      US   70    male  2018-03-07\n",
       "4  9531648      US   39    male  2018-09-29"
      ]
     },
     "execution_count": 12,
     "metadata": {},
     "output_type": "execute_result"
    }
   ],
   "source": [
    "df3.head()"
   ]
  },
  {
   "cell_type": "code",
   "execution_count": 13,
   "metadata": {},
   "outputs": [
    {
     "data": {
      "text/plain": [
       "(600000, 5)"
      ]
     },
     "execution_count": 13,
     "metadata": {},
     "output_type": "execute_result"
    }
   ],
   "source": [
    "df3.shape"
   ]
  },
  {
   "cell_type": "code",
   "execution_count": 14,
   "metadata": {},
   "outputs": [],
   "source": [
    "temp_merged = pd.merge(df3, df1, left_on='user_id', right_on='user_id', how='left')"
   ]
  },
  {
   "cell_type": "code",
   "execution_count": 15,
   "metadata": {},
   "outputs": [
    {
     "data": {
      "text/html": [
       "<div>\n",
       "<style scoped>\n",
       "    .dataframe tbody tr th:only-of-type {\n",
       "        vertical-align: middle;\n",
       "    }\n",
       "\n",
       "    .dataframe tbody tr th {\n",
       "        vertical-align: top;\n",
       "    }\n",
       "\n",
       "    .dataframe thead th {\n",
       "        text-align: right;\n",
       "    }\n",
       "</style>\n",
       "<table border=\"1\" class=\"dataframe\">\n",
       "  <thead>\n",
       "    <tr style=\"text-align: right;\">\n",
       "      <th></th>\n",
       "      <th>user_id</th>\n",
       "      <th>country</th>\n",
       "      <th>age</th>\n",
       "      <th>gender</th>\n",
       "      <th>start_date</th>\n",
       "      <th>ds1</th>\n",
       "    </tr>\n",
       "  </thead>\n",
       "  <tbody>\n",
       "    <tr>\n",
       "      <th>0</th>\n",
       "      <td>9541124</td>\n",
       "      <td>DK</td>\n",
       "      <td>22</td>\n",
       "      <td>male</td>\n",
       "      <td>2018-05-05</td>\n",
       "      <td>NaN</td>\n",
       "    </tr>\n",
       "    <tr>\n",
       "      <th>1</th>\n",
       "      <td>5946065</td>\n",
       "      <td>US</td>\n",
       "      <td>15</td>\n",
       "      <td>male</td>\n",
       "      <td>2018-01-24</td>\n",
       "      <td>2020-03-08</td>\n",
       "    </tr>\n",
       "    <tr>\n",
       "      <th>2</th>\n",
       "      <td>4180986</td>\n",
       "      <td>US</td>\n",
       "      <td>32</td>\n",
       "      <td>female</td>\n",
       "      <td>2018-12-17</td>\n",
       "      <td>NaN</td>\n",
       "    </tr>\n",
       "    <tr>\n",
       "      <th>3</th>\n",
       "      <td>5533917</td>\n",
       "      <td>US</td>\n",
       "      <td>70</td>\n",
       "      <td>male</td>\n",
       "      <td>2018-03-07</td>\n",
       "      <td>2020-01-11</td>\n",
       "    </tr>\n",
       "    <tr>\n",
       "      <th>4</th>\n",
       "      <td>5533917</td>\n",
       "      <td>US</td>\n",
       "      <td>70</td>\n",
       "      <td>male</td>\n",
       "      <td>2018-03-07</td>\n",
       "      <td>2020-02-13</td>\n",
       "    </tr>\n",
       "  </tbody>\n",
       "</table>\n",
       "</div>"
      ],
      "text/plain": [
       "   user_id country  age  gender  start_date         ds1\n",
       "0  9541124      DK   22    male  2018-05-05         NaN\n",
       "1  5946065      US   15    male  2018-01-24  2020-03-08\n",
       "2  4180986      US   32  female  2018-12-17         NaN\n",
       "3  5533917      US   70    male  2018-03-07  2020-01-11\n",
       "4  5533917      US   70    male  2018-03-07  2020-02-13"
      ]
     },
     "execution_count": 15,
     "metadata": {},
     "output_type": "execute_result"
    }
   ],
   "source": [
    "temp_merged.head()"
   ]
  },
  {
   "cell_type": "code",
   "execution_count": 16,
   "metadata": {},
   "outputs": [],
   "source": [
    "df_merged = pd.merge(temp_merged, df2, left_on='user_id', right_on='user_id', how='left')"
   ]
  },
  {
   "cell_type": "code",
   "execution_count": 17,
   "metadata": {},
   "outputs": [
    {
     "data": {
      "text/html": [
       "<div>\n",
       "<style scoped>\n",
       "    .dataframe tbody tr th:only-of-type {\n",
       "        vertical-align: middle;\n",
       "    }\n",
       "\n",
       "    .dataframe tbody tr th {\n",
       "        vertical-align: top;\n",
       "    }\n",
       "\n",
       "    .dataframe thead th {\n",
       "        text-align: right;\n",
       "    }\n",
       "</style>\n",
       "<table border=\"1\" class=\"dataframe\">\n",
       "  <thead>\n",
       "    <tr style=\"text-align: right;\">\n",
       "      <th></th>\n",
       "      <th>user_id</th>\n",
       "      <th>country</th>\n",
       "      <th>age</th>\n",
       "      <th>gender</th>\n",
       "      <th>start_date</th>\n",
       "      <th>ds1</th>\n",
       "      <th>ds2</th>\n",
       "    </tr>\n",
       "  </thead>\n",
       "  <tbody>\n",
       "    <tr>\n",
       "      <th>0</th>\n",
       "      <td>9541124</td>\n",
       "      <td>DK</td>\n",
       "      <td>22</td>\n",
       "      <td>male</td>\n",
       "      <td>2018-05-05</td>\n",
       "      <td>NaN</td>\n",
       "      <td>2020-10-25</td>\n",
       "    </tr>\n",
       "    <tr>\n",
       "      <th>1</th>\n",
       "      <td>5946065</td>\n",
       "      <td>US</td>\n",
       "      <td>15</td>\n",
       "      <td>male</td>\n",
       "      <td>2018-01-24</td>\n",
       "      <td>2020-03-08</td>\n",
       "      <td>NaN</td>\n",
       "    </tr>\n",
       "    <tr>\n",
       "      <th>2</th>\n",
       "      <td>4180986</td>\n",
       "      <td>US</td>\n",
       "      <td>32</td>\n",
       "      <td>female</td>\n",
       "      <td>2018-12-17</td>\n",
       "      <td>NaN</td>\n",
       "      <td>NaN</td>\n",
       "    </tr>\n",
       "    <tr>\n",
       "      <th>3</th>\n",
       "      <td>5533917</td>\n",
       "      <td>US</td>\n",
       "      <td>70</td>\n",
       "      <td>male</td>\n",
       "      <td>2018-03-07</td>\n",
       "      <td>2020-01-11</td>\n",
       "      <td>2020-08-20</td>\n",
       "    </tr>\n",
       "    <tr>\n",
       "      <th>4</th>\n",
       "      <td>5533917</td>\n",
       "      <td>US</td>\n",
       "      <td>70</td>\n",
       "      <td>male</td>\n",
       "      <td>2018-03-07</td>\n",
       "      <td>2020-02-13</td>\n",
       "      <td>2020-08-20</td>\n",
       "    </tr>\n",
       "  </tbody>\n",
       "</table>\n",
       "</div>"
      ],
      "text/plain": [
       "   user_id country  age  gender  start_date         ds1         ds2\n",
       "0  9541124      DK   22    male  2018-05-05         NaN  2020-10-25\n",
       "1  5946065      US   15    male  2018-01-24  2020-03-08         NaN\n",
       "2  4180986      US   32  female  2018-12-17         NaN         NaN\n",
       "3  5533917      US   70    male  2018-03-07  2020-01-11  2020-08-20\n",
       "4  5533917      US   70    male  2018-03-07  2020-02-13  2020-08-20"
      ]
     },
     "execution_count": 17,
     "metadata": {},
     "output_type": "execute_result"
    }
   ],
   "source": [
    "df_merged.head()"
   ]
  },
  {
   "cell_type": "code",
   "execution_count": 18,
   "metadata": {},
   "outputs": [
    {
     "data": {
      "text/plain": [
       "user_id        0.000000\n",
       "country        0.000000\n",
       "age            0.000000\n",
       "gender         0.000000\n",
       "start_date     0.000000\n",
       "ds1           25.863805\n",
       "ds2           57.617636\n",
       "dtype: float64"
      ]
     },
     "execution_count": 18,
     "metadata": {},
     "output_type": "execute_result"
    }
   ],
   "source": [
    "df_merged.isna().sum() / len(df_merged) * 100"
   ]
  },
  {
   "cell_type": "code",
   "execution_count": 20,
   "metadata": {},
   "outputs": [],
   "source": [
    "df_merged.to_csv(\"./merged_dataset.csv\", index = False)"
   ]
  },
  {
   "cell_type": "markdown",
   "metadata": {},
   "source": [
    "## Average user question"
   ]
  },
  {
   "cell_type": "code",
   "execution_count": 23,
   "metadata": {},
   "outputs": [
    {
     "data": {
      "text/html": [
       "<div>\n",
       "<style scoped>\n",
       "    .dataframe tbody tr th:only-of-type {\n",
       "        vertical-align: middle;\n",
       "    }\n",
       "\n",
       "    .dataframe tbody tr th {\n",
       "        vertical-align: top;\n",
       "    }\n",
       "\n",
       "    .dataframe thead th {\n",
       "        text-align: right;\n",
       "    }\n",
       "</style>\n",
       "<table border=\"1\" class=\"dataframe\">\n",
       "  <thead>\n",
       "    <tr style=\"text-align: right;\">\n",
       "      <th></th>\n",
       "      <th>user_id</th>\n",
       "      <th>country</th>\n",
       "      <th>age</th>\n",
       "      <th>gender</th>\n",
       "      <th>start_date</th>\n",
       "      <th>ds1</th>\n",
       "      <th>ds2</th>\n",
       "    </tr>\n",
       "  </thead>\n",
       "  <tbody>\n",
       "    <tr>\n",
       "      <th>0</th>\n",
       "      <td>9541124</td>\n",
       "      <td>DK</td>\n",
       "      <td>22</td>\n",
       "      <td>male</td>\n",
       "      <td>2018-05-05</td>\n",
       "      <td>NaN</td>\n",
       "      <td>2020-10-25</td>\n",
       "    </tr>\n",
       "    <tr>\n",
       "      <th>1</th>\n",
       "      <td>5946065</td>\n",
       "      <td>US</td>\n",
       "      <td>15</td>\n",
       "      <td>male</td>\n",
       "      <td>2018-01-24</td>\n",
       "      <td>2020-03-08</td>\n",
       "      <td>NaN</td>\n",
       "    </tr>\n",
       "    <tr>\n",
       "      <th>2</th>\n",
       "      <td>4180986</td>\n",
       "      <td>US</td>\n",
       "      <td>32</td>\n",
       "      <td>female</td>\n",
       "      <td>2018-12-17</td>\n",
       "      <td>NaN</td>\n",
       "      <td>NaN</td>\n",
       "    </tr>\n",
       "    <tr>\n",
       "      <th>3</th>\n",
       "      <td>5533917</td>\n",
       "      <td>US</td>\n",
       "      <td>70</td>\n",
       "      <td>male</td>\n",
       "      <td>2018-03-07</td>\n",
       "      <td>2020-01-11</td>\n",
       "      <td>2020-08-20</td>\n",
       "    </tr>\n",
       "    <tr>\n",
       "      <th>4</th>\n",
       "      <td>5533917</td>\n",
       "      <td>US</td>\n",
       "      <td>70</td>\n",
       "      <td>male</td>\n",
       "      <td>2018-03-07</td>\n",
       "      <td>2020-02-13</td>\n",
       "      <td>2020-08-20</td>\n",
       "    </tr>\n",
       "  </tbody>\n",
       "</table>\n",
       "</div>"
      ],
      "text/plain": [
       "   user_id country  age  gender  start_date         ds1         ds2\n",
       "0  9541124      DK   22    male  2018-05-05         NaN  2020-10-25\n",
       "1  5946065      US   15    male  2018-01-24  2020-03-08         NaN\n",
       "2  4180986      US   32  female  2018-12-17         NaN         NaN\n",
       "3  5533917      US   70    male  2018-03-07  2020-01-11  2020-08-20\n",
       "4  5533917      US   70    male  2018-03-07  2020-02-13  2020-08-20"
      ]
     },
     "execution_count": 23,
     "metadata": {},
     "output_type": "execute_result"
    }
   ],
   "source": [
    "df_merged.head()"
   ]
  },
  {
   "cell_type": "code",
   "execution_count": 24,
   "metadata": {},
   "outputs": [
    {
     "data": {
      "text/plain": [
       "US    577205\n",
       "PL     91992\n",
       "NL     84406\n",
       "DE     62791\n",
       "UK     49375\n",
       "FR     43605\n",
       "DK     42494\n",
       "CZ     38173\n",
       "IT     23883\n",
       "FI     22064\n",
       "ES      3685\n",
       "Name: country, dtype: int64"
      ]
     },
     "execution_count": 24,
     "metadata": {},
     "output_type": "execute_result"
    }
   ],
   "source": [
    "df_merged[\"country\"].value_counts()"
   ]
  },
  {
   "cell_type": "code",
   "execution_count": 26,
   "metadata": {},
   "outputs": [
    {
     "data": {
      "text/plain": [
       "38.461664388706836"
      ]
     },
     "execution_count": 26,
     "metadata": {},
     "output_type": "execute_result"
    }
   ],
   "source": [
    "np.average(df_merged[\"age\"])"
   ]
  },
  {
   "cell_type": "code",
   "execution_count": 27,
   "metadata": {},
   "outputs": [
    {
     "data": {
      "text/plain": [
       "male       699466\n",
       "female     272324\n",
       "unknown     67883\n",
       "Name: gender, dtype: int64"
      ]
     },
     "execution_count": 27,
     "metadata": {},
     "output_type": "execute_result"
    }
   ],
   "source": [
    "df_merged[\"gender\"].value_counts()"
   ]
  },
  {
   "cell_type": "code",
   "execution_count": 30,
   "metadata": {},
   "outputs": [
    {
     "data": {
      "text/plain": [
       "2018-10-26    3154\n",
       "2018-05-05    3154\n",
       "2018-12-09    3153\n",
       "2018-03-30    3141\n",
       "2018-10-27    3139\n",
       "              ... \n",
       "2018-11-09    2715\n",
       "2018-03-21    2700\n",
       "2018-11-03    2693\n",
       "2018-08-29    2681\n",
       "2018-11-10    2678\n",
       "Name: start_date, Length: 356, dtype: int64"
      ]
     },
     "execution_count": 30,
     "metadata": {},
     "output_type": "execute_result"
    }
   ],
   "source": [
    "df_merged[\"start_date\"].value_counts()"
   ]
  },
  {
   "cell_type": "code",
   "execution_count": 33,
   "metadata": {},
   "outputs": [
    {
     "data": {
      "text/plain": [
       "2018    1039673\n",
       "Name: start_date, dtype: int64"
      ]
     },
     "execution_count": 33,
     "metadata": {},
     "output_type": "execute_result"
    }
   ],
   "source": [
    "pd.DatetimeIndex(df_merged['start_date']).year.value_counts()"
   ]
  },
  {
   "cell_type": "code",
   "execution_count": 34,
   "metadata": {},
   "outputs": [
    {
     "data": {
      "text/plain": [
       "5     91297\n",
       "1     91076\n",
       "3     90800\n",
       "10    90627\n",
       "7     90196\n",
       "8     90124\n",
       "6     87697\n",
       "4     87377\n",
       "9     87236\n",
       "11    86030\n",
       "2     82482\n",
       "12    64731\n",
       "Name: start_date, dtype: int64"
      ]
     },
     "execution_count": 34,
     "metadata": {},
     "output_type": "execute_result"
    }
   ],
   "source": [
    "pd.DatetimeIndex(df_merged['start_date']).month.value_counts()"
   ]
  },
  {
   "cell_type": "code",
   "execution_count": 35,
   "metadata": {},
   "outputs": [
    {
     "data": {
      "text/plain": [
       "9     35548\n",
       "18    35394\n",
       "16    35385\n",
       "21    35276\n",
       "13    35183\n",
       "7     35064\n",
       "22    35025\n",
       "5     35024\n",
       "12    35020\n",
       "19    35007\n",
       "14    35007\n",
       "17    34981\n",
       "10    34974\n",
       "11    34960\n",
       "15    34924\n",
       "20    34870\n",
       "1     34855\n",
       "8     34779\n",
       "3     34776\n",
       "4     34695\n",
       "6     34693\n",
       "2     34579\n",
       "23    32560\n",
       "27    32528\n",
       "26    32447\n",
       "28    32325\n",
       "24    32210\n",
       "25    31868\n",
       "30    29312\n",
       "29    28840\n",
       "31    17564\n",
       "Name: start_date, dtype: int64"
      ]
     },
     "execution_count": 35,
     "metadata": {},
     "output_type": "execute_result"
    }
   ],
   "source": [
    "pd.DatetimeIndex(df_merged['start_date']).day.value_counts()"
   ]
  },
  {
   "cell_type": "markdown",
   "metadata": {},
   "source": [
    "### **Average user:**\n",
    "- **Country** : US\n",
    "- **Age** : ~38.5\n",
    "- **Gender** : Male\n",
    "- **Start date** : 09 May 2018"
   ]
  },
  {
   "cell_type": "markdown",
   "metadata": {},
   "source": [
    "## Question 2"
   ]
  },
  {
   "cell_type": "code",
   "execution_count": 36,
   "metadata": {},
   "outputs": [
    {
     "data": {
      "text/html": [
       "<div>\n",
       "<style scoped>\n",
       "    .dataframe tbody tr th:only-of-type {\n",
       "        vertical-align: middle;\n",
       "    }\n",
       "\n",
       "    .dataframe tbody tr th {\n",
       "        vertical-align: top;\n",
       "    }\n",
       "\n",
       "    .dataframe thead th {\n",
       "        text-align: right;\n",
       "    }\n",
       "</style>\n",
       "<table border=\"1\" class=\"dataframe\">\n",
       "  <thead>\n",
       "    <tr style=\"text-align: right;\">\n",
       "      <th></th>\n",
       "      <th>user_id</th>\n",
       "      <th>country</th>\n",
       "      <th>age</th>\n",
       "      <th>gender</th>\n",
       "      <th>start_date</th>\n",
       "      <th>ds1</th>\n",
       "      <th>ds2</th>\n",
       "    </tr>\n",
       "  </thead>\n",
       "  <tbody>\n",
       "    <tr>\n",
       "      <th>0</th>\n",
       "      <td>9541124</td>\n",
       "      <td>DK</td>\n",
       "      <td>22</td>\n",
       "      <td>male</td>\n",
       "      <td>2018-05-05</td>\n",
       "      <td>NaN</td>\n",
       "      <td>2020-10-25</td>\n",
       "    </tr>\n",
       "    <tr>\n",
       "      <th>1</th>\n",
       "      <td>5946065</td>\n",
       "      <td>US</td>\n",
       "      <td>15</td>\n",
       "      <td>male</td>\n",
       "      <td>2018-01-24</td>\n",
       "      <td>2020-03-08</td>\n",
       "      <td>NaN</td>\n",
       "    </tr>\n",
       "    <tr>\n",
       "      <th>2</th>\n",
       "      <td>4180986</td>\n",
       "      <td>US</td>\n",
       "      <td>32</td>\n",
       "      <td>female</td>\n",
       "      <td>2018-12-17</td>\n",
       "      <td>NaN</td>\n",
       "      <td>NaN</td>\n",
       "    </tr>\n",
       "    <tr>\n",
       "      <th>3</th>\n",
       "      <td>5533917</td>\n",
       "      <td>US</td>\n",
       "      <td>70</td>\n",
       "      <td>male</td>\n",
       "      <td>2018-03-07</td>\n",
       "      <td>2020-01-11</td>\n",
       "      <td>2020-08-20</td>\n",
       "    </tr>\n",
       "    <tr>\n",
       "      <th>4</th>\n",
       "      <td>5533917</td>\n",
       "      <td>US</td>\n",
       "      <td>70</td>\n",
       "      <td>male</td>\n",
       "      <td>2018-03-07</td>\n",
       "      <td>2020-02-13</td>\n",
       "      <td>2020-08-20</td>\n",
       "    </tr>\n",
       "  </tbody>\n",
       "</table>\n",
       "</div>"
      ],
      "text/plain": [
       "   user_id country  age  gender  start_date         ds1         ds2\n",
       "0  9541124      DK   22    male  2018-05-05         NaN  2020-10-25\n",
       "1  5946065      US   15    male  2018-01-24  2020-03-08         NaN\n",
       "2  4180986      US   32  female  2018-12-17         NaN         NaN\n",
       "3  5533917      US   70    male  2018-03-07  2020-01-11  2020-08-20\n",
       "4  5533917      US   70    male  2018-03-07  2020-02-13  2020-08-20"
      ]
     },
     "execution_count": 36,
     "metadata": {},
     "output_type": "execute_result"
    }
   ],
   "source": [
    "df_merged.head()"
   ]
  },
  {
   "cell_type": "code",
   "execution_count": 45,
   "metadata": {},
   "outputs": [],
   "source": [
    "product1 = df_merged.dropna(subset=[\"ds1\"]).reset_index().drop([\"ds2\"], axis = 1)"
   ]
  },
  {
   "cell_type": "code",
   "execution_count": 46,
   "metadata": {},
   "outputs": [],
   "source": [
    "product2 = df_merged.dropna(subset=[\"ds2\"]).reset_index().drop([\"ds1\"], axis = 1)"
   ]
  },
  {
   "cell_type": "code",
   "execution_count": 47,
   "metadata": {},
   "outputs": [
    {
     "data": {
      "text/html": [
       "<div>\n",
       "<style scoped>\n",
       "    .dataframe tbody tr th:only-of-type {\n",
       "        vertical-align: middle;\n",
       "    }\n",
       "\n",
       "    .dataframe tbody tr th {\n",
       "        vertical-align: top;\n",
       "    }\n",
       "\n",
       "    .dataframe thead th {\n",
       "        text-align: right;\n",
       "    }\n",
       "</style>\n",
       "<table border=\"1\" class=\"dataframe\">\n",
       "  <thead>\n",
       "    <tr style=\"text-align: right;\">\n",
       "      <th></th>\n",
       "      <th>index</th>\n",
       "      <th>user_id</th>\n",
       "      <th>country</th>\n",
       "      <th>age</th>\n",
       "      <th>gender</th>\n",
       "      <th>start_date</th>\n",
       "      <th>ds1</th>\n",
       "    </tr>\n",
       "  </thead>\n",
       "  <tbody>\n",
       "    <tr>\n",
       "      <th>0</th>\n",
       "      <td>1</td>\n",
       "      <td>5946065</td>\n",
       "      <td>US</td>\n",
       "      <td>15</td>\n",
       "      <td>male</td>\n",
       "      <td>2018-01-24</td>\n",
       "      <td>2020-03-08</td>\n",
       "    </tr>\n",
       "    <tr>\n",
       "      <th>1</th>\n",
       "      <td>3</td>\n",
       "      <td>5533917</td>\n",
       "      <td>US</td>\n",
       "      <td>70</td>\n",
       "      <td>male</td>\n",
       "      <td>2018-03-07</td>\n",
       "      <td>2020-01-11</td>\n",
       "    </tr>\n",
       "    <tr>\n",
       "      <th>2</th>\n",
       "      <td>4</td>\n",
       "      <td>5533917</td>\n",
       "      <td>US</td>\n",
       "      <td>70</td>\n",
       "      <td>male</td>\n",
       "      <td>2018-03-07</td>\n",
       "      <td>2020-02-13</td>\n",
       "    </tr>\n",
       "    <tr>\n",
       "      <th>3</th>\n",
       "      <td>5</td>\n",
       "      <td>5533917</td>\n",
       "      <td>US</td>\n",
       "      <td>70</td>\n",
       "      <td>male</td>\n",
       "      <td>2018-03-07</td>\n",
       "      <td>2020-06-25</td>\n",
       "    </tr>\n",
       "    <tr>\n",
       "      <th>4</th>\n",
       "      <td>6</td>\n",
       "      <td>5533917</td>\n",
       "      <td>US</td>\n",
       "      <td>70</td>\n",
       "      <td>male</td>\n",
       "      <td>2018-03-07</td>\n",
       "      <td>2020-06-28</td>\n",
       "    </tr>\n",
       "  </tbody>\n",
       "</table>\n",
       "</div>"
      ],
      "text/plain": [
       "   index  user_id country  age gender  start_date         ds1\n",
       "0      1  5946065      US   15   male  2018-01-24  2020-03-08\n",
       "1      3  5533917      US   70   male  2018-03-07  2020-01-11\n",
       "2      4  5533917      US   70   male  2018-03-07  2020-02-13\n",
       "3      5  5533917      US   70   male  2018-03-07  2020-06-25\n",
       "4      6  5533917      US   70   male  2018-03-07  2020-06-28"
      ]
     },
     "execution_count": 47,
     "metadata": {},
     "output_type": "execute_result"
    }
   ],
   "source": [
    "product1.head()"
   ]
  },
  {
   "cell_type": "code",
   "execution_count": 48,
   "metadata": {},
   "outputs": [
    {
     "data": {
      "text/html": [
       "<div>\n",
       "<style scoped>\n",
       "    .dataframe tbody tr th:only-of-type {\n",
       "        vertical-align: middle;\n",
       "    }\n",
       "\n",
       "    .dataframe tbody tr th {\n",
       "        vertical-align: top;\n",
       "    }\n",
       "\n",
       "    .dataframe thead th {\n",
       "        text-align: right;\n",
       "    }\n",
       "</style>\n",
       "<table border=\"1\" class=\"dataframe\">\n",
       "  <thead>\n",
       "    <tr style=\"text-align: right;\">\n",
       "      <th></th>\n",
       "      <th>index</th>\n",
       "      <th>user_id</th>\n",
       "      <th>country</th>\n",
       "      <th>age</th>\n",
       "      <th>gender</th>\n",
       "      <th>start_date</th>\n",
       "      <th>ds2</th>\n",
       "    </tr>\n",
       "  </thead>\n",
       "  <tbody>\n",
       "    <tr>\n",
       "      <th>0</th>\n",
       "      <td>0</td>\n",
       "      <td>9541124</td>\n",
       "      <td>DK</td>\n",
       "      <td>22</td>\n",
       "      <td>male</td>\n",
       "      <td>2018-05-05</td>\n",
       "      <td>2020-10-25</td>\n",
       "    </tr>\n",
       "    <tr>\n",
       "      <th>1</th>\n",
       "      <td>3</td>\n",
       "      <td>5533917</td>\n",
       "      <td>US</td>\n",
       "      <td>70</td>\n",
       "      <td>male</td>\n",
       "      <td>2018-03-07</td>\n",
       "      <td>2020-08-20</td>\n",
       "    </tr>\n",
       "    <tr>\n",
       "      <th>2</th>\n",
       "      <td>4</td>\n",
       "      <td>5533917</td>\n",
       "      <td>US</td>\n",
       "      <td>70</td>\n",
       "      <td>male</td>\n",
       "      <td>2018-03-07</td>\n",
       "      <td>2020-08-20</td>\n",
       "    </tr>\n",
       "    <tr>\n",
       "      <th>3</th>\n",
       "      <td>5</td>\n",
       "      <td>5533917</td>\n",
       "      <td>US</td>\n",
       "      <td>70</td>\n",
       "      <td>male</td>\n",
       "      <td>2018-03-07</td>\n",
       "      <td>2020-08-20</td>\n",
       "    </tr>\n",
       "    <tr>\n",
       "      <th>4</th>\n",
       "      <td>6</td>\n",
       "      <td>5533917</td>\n",
       "      <td>US</td>\n",
       "      <td>70</td>\n",
       "      <td>male</td>\n",
       "      <td>2018-03-07</td>\n",
       "      <td>2020-08-20</td>\n",
       "    </tr>\n",
       "  </tbody>\n",
       "</table>\n",
       "</div>"
      ],
      "text/plain": [
       "   index  user_id country  age gender  start_date         ds2\n",
       "0      0  9541124      DK   22   male  2018-05-05  2020-10-25\n",
       "1      3  5533917      US   70   male  2018-03-07  2020-08-20\n",
       "2      4  5533917      US   70   male  2018-03-07  2020-08-20\n",
       "3      5  5533917      US   70   male  2018-03-07  2020-08-20\n",
       "4      6  5533917      US   70   male  2018-03-07  2020-08-20"
      ]
     },
     "execution_count": 48,
     "metadata": {},
     "output_type": "execute_result"
    }
   ],
   "source": [
    "product2.head()"
   ]
  },
  {
   "cell_type": "markdown",
   "metadata": {},
   "source": [
    "#### Product 1 analysis"
   ]
  },
  {
   "cell_type": "code",
   "execution_count": 49,
   "metadata": {},
   "outputs": [
    {
     "data": {
      "text/plain": [
       "US    368624\n",
       "PL     79935\n",
       "NL     73357\n",
       "DE     54553\n",
       "UK     42927\n",
       "FR     37899\n",
       "DK     37074\n",
       "CZ     33309\n",
       "IT     20720\n",
       "FI     19141\n",
       "ES      3235\n",
       "Name: country, dtype: int64"
      ]
     },
     "execution_count": 49,
     "metadata": {},
     "output_type": "execute_result"
    }
   ],
   "source": [
    "product1[\"country\"].value_counts()"
   ]
  },
  {
   "cell_type": "code",
   "execution_count": 50,
   "metadata": {},
   "outputs": [
    {
     "data": {
      "text/plain": [
       "42.61253493241858"
      ]
     },
     "execution_count": 50,
     "metadata": {},
     "output_type": "execute_result"
    }
   ],
   "source": [
    "np.average(product1[\"age\"])"
   ]
  },
  {
   "cell_type": "code",
   "execution_count": 58,
   "metadata": {},
   "outputs": [
    {
     "data": {
      "text/plain": [
       "male       518454\n",
       "female     201924\n",
       "unknown     50396\n",
       "Name: gender, dtype: int64"
      ]
     },
     "execution_count": 58,
     "metadata": {},
     "output_type": "execute_result"
    }
   ],
   "source": [
    "product1[\"gender\"].value_counts()"
   ]
  },
  {
   "cell_type": "code",
   "execution_count": 62,
   "metadata": {},
   "outputs": [
    {
     "data": {
      "text/plain": [
       "2018    770774\n",
       "Name: start_date, dtype: int64"
      ]
     },
     "execution_count": 62,
     "metadata": {},
     "output_type": "execute_result"
    }
   ],
   "source": [
    "pd.DatetimeIndex(product1['start_date']).year.value_counts()"
   ]
  },
  {
   "cell_type": "code",
   "execution_count": 63,
   "metadata": {},
   "outputs": [
    {
     "data": {
      "text/plain": [
       "5     67641\n",
       "1     67488\n",
       "10    67346\n",
       "3     67305\n",
       "7     67260\n",
       "8     66620\n",
       "6     65137\n",
       "4     64834\n",
       "9     64250\n",
       "11    63600\n",
       "2     61130\n",
       "12    48163\n",
       "Name: start_date, dtype: int64"
      ]
     },
     "execution_count": 63,
     "metadata": {},
     "output_type": "execute_result"
    }
   ],
   "source": [
    "pd.DatetimeIndex(product1['start_date']).month.value_counts()"
   ]
  },
  {
   "cell_type": "code",
   "execution_count": 64,
   "metadata": {},
   "outputs": [
    {
     "data": {
      "text/plain": [
       "9     26533\n",
       "16    26392\n",
       "18    26392\n",
       "21    26314\n",
       "7     26067\n",
       "13    26063\n",
       "14    26036\n",
       "5     25986\n",
       "12    25936\n",
       "19    25864\n",
       "15    25832\n",
       "3     25827\n",
       "22    25820\n",
       "10    25817\n",
       "11    25814\n",
       "8     25804\n",
       "1     25779\n",
       "17    25766\n",
       "20    25714\n",
       "4     25706\n",
       "2     25676\n",
       "6     25605\n",
       "27    24259\n",
       "23    24242\n",
       "26    24186\n",
       "28    23989\n",
       "24    23904\n",
       "25    23561\n",
       "30    21776\n",
       "29    21064\n",
       "31    13050\n",
       "Name: start_date, dtype: int64"
      ]
     },
     "execution_count": 64,
     "metadata": {},
     "output_type": "execute_result"
    }
   ],
   "source": [
    "pd.DatetimeIndex(product1['start_date']).day.value_counts()"
   ]
  },
  {
   "cell_type": "markdown",
   "metadata": {},
   "source": [
    "#### Product 2 analysis"
   ]
  },
  {
   "cell_type": "code",
   "execution_count": 55,
   "metadata": {},
   "outputs": [
    {
     "data": {
      "text/plain": [
       "US    171241\n",
       "PL     53513\n",
       "NL     49113\n",
       "DE     36760\n",
       "UK     28849\n",
       "FR     25330\n",
       "DK     24817\n",
       "CZ     22051\n",
       "IT     13831\n",
       "FI     12929\n",
       "ES      2204\n",
       "Name: country, dtype: int64"
      ]
     },
     "execution_count": 55,
     "metadata": {},
     "output_type": "execute_result"
    }
   ],
   "source": [
    "product2[\"country\"].value_counts()"
   ]
  },
  {
   "cell_type": "code",
   "execution_count": 56,
   "metadata": {},
   "outputs": [
    {
     "data": {
      "text/plain": [
       "41.28755123253101"
      ]
     },
     "execution_count": 56,
     "metadata": {},
     "output_type": "execute_result"
    }
   ],
   "source": [
    "np.average(product2[\"age\"])"
   ]
  },
  {
   "cell_type": "code",
   "execution_count": 57,
   "metadata": {},
   "outputs": [
    {
     "data": {
      "text/plain": [
       "male       296301\n",
       "female     115596\n",
       "unknown     28741\n",
       "Name: gender, dtype: int64"
      ]
     },
     "execution_count": 57,
     "metadata": {},
     "output_type": "execute_result"
    }
   ],
   "source": [
    "product2[\"gender\"].value_counts()"
   ]
  },
  {
   "cell_type": "code",
   "execution_count": 59,
   "metadata": {},
   "outputs": [
    {
     "data": {
      "text/plain": [
       "2018    440638\n",
       "Name: start_date, dtype: int64"
      ]
     },
     "execution_count": 59,
     "metadata": {},
     "output_type": "execute_result"
    }
   ],
   "source": [
    "pd.DatetimeIndex(product2['start_date']).year.value_counts()"
   ]
  },
  {
   "cell_type": "code",
   "execution_count": 60,
   "metadata": {},
   "outputs": [
    {
     "data": {
      "text/plain": [
       "5     38951\n",
       "10    38760\n",
       "1     38539\n",
       "3     38449\n",
       "7     38298\n",
       "8     38215\n",
       "6     37101\n",
       "4     36873\n",
       "9     36823\n",
       "11    36305\n",
       "2     35299\n",
       "12    27025\n",
       "Name: start_date, dtype: int64"
      ]
     },
     "execution_count": 60,
     "metadata": {},
     "output_type": "execute_result"
    }
   ],
   "source": [
    "pd.DatetimeIndex(product2['start_date']).month.value_counts()"
   ]
  },
  {
   "cell_type": "code",
   "execution_count": 61,
   "metadata": {},
   "outputs": [
    {
     "data": {
      "text/plain": [
       "9     15324\n",
       "21    15093\n",
       "10    15063\n",
       "16    15005\n",
       "5     14950\n",
       "14    14933\n",
       "12    14918\n",
       "18    14918\n",
       "4     14896\n",
       "22    14890\n",
       "3     14838\n",
       "19    14830\n",
       "20    14798\n",
       "15    14756\n",
       "2     14747\n",
       "17    14720\n",
       "13    14708\n",
       "7     14650\n",
       "8     14636\n",
       "1     14555\n",
       "6     14508\n",
       "11    14436\n",
       "23    14110\n",
       "28    14011\n",
       "27    13750\n",
       "24    13745\n",
       "26    13717\n",
       "25    13402\n",
       "30    12667\n",
       "29    11855\n",
       "31     7209\n",
       "Name: start_date, dtype: int64"
      ]
     },
     "execution_count": 61,
     "metadata": {},
     "output_type": "execute_result"
    }
   ],
   "source": [
    "pd.DatetimeIndex(product2['start_date']).day.value_counts()"
   ]
  },
  {
   "cell_type": "code",
   "execution_count": null,
   "metadata": {},
   "outputs": [],
   "source": []
  }
 ],
 "metadata": {
  "kernelspec": {
   "display_name": "Python 3",
   "language": "python",
   "name": "python3"
  },
  "language_info": {
   "codemirror_mode": {
    "name": "ipython",
    "version": 3
   },
   "file_extension": ".py",
   "mimetype": "text/x-python",
   "name": "python",
   "nbconvert_exporter": "python",
   "pygments_lexer": "ipython3",
   "version": "3.7.9"
  }
 },
 "nbformat": 4,
 "nbformat_minor": 4
}
