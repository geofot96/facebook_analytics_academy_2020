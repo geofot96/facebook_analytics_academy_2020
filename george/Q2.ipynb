{
 "cells": [
  {
   "cell_type": "code",
   "execution_count": 83,
   "metadata": {},
   "outputs": [],
   "source": [
    "import numpy as np\n",
    "import pandas as pd\n",
    "import matplotlib.pyplot as plt"
   ]
  },
  {
   "cell_type": "code",
   "execution_count": 12,
   "metadata": {},
   "outputs": [],
   "source": [
    "merged = pd.read_csv('merged_dataset.csv')\n",
    "df1 = pd.read_csv('prod_A.csv')\n",
    "df2 = pd.read_csv('prod_B.csv')\n",
    "user_data = pd.read_csv('user_data.csv')"
   ]
  },
  {
   "cell_type": "code",
   "execution_count": 14,
   "metadata": {},
   "outputs": [],
   "source": [
    "merged = pd.DataFrame(merged, columns = ['user_id', 'country', 'age', 'gender', 'start_date', 'ds1', 'ds2'])"
   ]
  },
  {
   "cell_type": "code",
   "execution_count": 123,
   "metadata": {},
   "outputs": [],
   "source": [
    "merged_1 = user_data.merge(df1, how='inner', left_on='user_id', right_on='userid')\n",
    "merged_2 = user_data.merge(df2, how='inner', left_on='user_id', right_on='userid')\n",
    "product1 = merged.dropna(subset=[\"ds1\"]).reset_index().drop([\"ds2\"], axis = 1)\n",
    "product2 = merged.dropna(subset=[\"ds2\"]).reset_index().drop([\"ds1\"], axis = 1)"
   ]
  },
  {
   "cell_type": "markdown",
   "metadata": {},
   "source": [
    "# Q1 Average user question"
   ]
  },
  {
   "cell_type": "markdown",
   "metadata": {},
   "source": [
    "* country\n",
    "* age\n",
    "* gender\n",
    "* start_date\n",
    "* frequency of buying"
   ]
  },
  {
   "cell_type": "code",
   "execution_count": 127,
   "metadata": {},
   "outputs": [
    {
     "name": "stdout",
     "output_type": "stream",
     "text": [
      "US    577205\n",
      "PL     91992\n",
      "NL     84406\n",
      "DE     62791\n",
      "UK     49375\n",
      "FR     43605\n",
      "DK     42494\n",
      "CZ     38173\n",
      "IT     23883\n",
      "FI     22064\n",
      "ES      3685\n",
      "Name: country, dtype: int64\n"
     ]
    },
    {
     "data": {
      "text/plain": [
       "<AxesSubplot:title={'center':'all_users_country'}>"
      ]
     },
     "execution_count": 127,
     "metadata": {},
     "output_type": "execute_result"
    },
    {
     "data": {
      "image/png": "[encoded data removed]",
      "text/plain": [
       "<Figure size 432x288 with 1 Axes>"
      ]
     },
     "metadata": {
      "needs_background": "light"
     },
     "output_type": "display_data"
    }
   ],
   "source": [
    "country_all = merged[\"country\"].value_counts()\n",
    "print(country_all)\n",
    "country_all.plot(kind='bar', title='all_users_country')"
   ]
  },
  {
   "cell_type": "code",
   "execution_count": 155,
   "metadata": {},
   "outputs": [
    {
     "name": "stdout",
     "output_type": "stream",
     "text": [
      "average age for all users is  38.461664388706836\n"
     ]
    },
    {
     "data": {
      "text/plain": [
       "<AxesSubplot:>"
      ]
     },
     "execution_count": 155,
     "metadata": {},
     "output_type": "execute_result"
    },
    {
     "data": {
      "image/png": "[encoded data removed]",
      "text/plain": [
       "<Figure size 432x288 with 1 Axes>"
      ]
     },
     "metadata": {
      "needs_background": "light"
     },
     "output_type": "display_data"
    }
   ],
   "source": [
    "print(\"average age for all users is \", np.average(merged[\"age\"]))\n",
    "merged.age.hist(edgecolor=\"k\")"
   ]
  },
  {
   "cell_type": "code",
   "execution_count": 159,
   "metadata": {},
   "outputs": [
    {
     "name": "stdout",
     "output_type": "stream",
     "text": [
      "male       699466\n",
      "female     272324\n",
      "unknown     67883\n",
      "Name: gender, dtype: int64\n"
     ]
    },
    {
     "data": {
      "text/plain": [
       "<AxesSubplot:title={'center':'all_users_gender'}>"
      ]
     },
     "execution_count": 159,
     "metadata": {},
     "output_type": "execute_result"
    },
    {
     "data": {
      "image/png": "[encoded data removed]",
      "text/plain": [
       "<Figure size 432x288 with 1 Axes>"
      ]
     },
     "metadata": {
      "needs_background": "light"
     },
     "output_type": "display_data"
    }
   ],
   "source": [
    "gender_all = merged['gender'].value_counts()\n",
    "print(gender_all)\n",
    "gender_all.plot(kind='bar', title='all_users_gender')"
   ]
  },
  {
   "cell_type": "code",
   "execution_count": 157,
   "metadata": {},
   "outputs": [
    {
     "name": "stdout",
     "output_type": "stream",
     "text": [
      "start_date_distribution 2018-05-05    3154\n",
      "2018-10-26    3154\n",
      "2018-12-09    3153\n",
      "2018-03-30    3141\n",
      "2018-10-07    3139\n",
      "              ... \n",
      "2018-11-09    2715\n",
      "2018-03-21    2700\n",
      "2018-11-03    2693\n",
      "2018-08-29    2681\n",
      "2018-11-10    2678\n",
      "Name: start_date, Length: 356, dtype: int64\n",
      "start_date_distribution_by_month 5     91297\n",
      "1     91076\n",
      "3     90800\n",
      "10    90627\n",
      "7     90196\n",
      "8     90124\n",
      "6     87697\n",
      "4     87377\n",
      "9     87236\n",
      "11    86030\n",
      "2     82482\n",
      "12    64731\n",
      "Name: start_date, dtype: int64\n",
      "start_date_distribution_by_day 9     35548\n",
      "18    35394\n",
      "16    35385\n",
      "21    35276\n",
      "13    35183\n",
      "7     35064\n",
      "22    35025\n",
      "5     35024\n",
      "12    35020\n",
      "19    35007\n",
      "14    35007\n",
      "17    34981\n",
      "10    34974\n",
      "11    34960\n",
      "15    34924\n",
      "20    34870\n",
      "1     34855\n",
      "8     34779\n",
      "3     34776\n",
      "4     34695\n",
      "6     34693\n",
      "2     34579\n",
      "23    32560\n",
      "27    32528\n",
      "26    32447\n",
      "28    32325\n",
      "24    32210\n",
      "25    31868\n",
      "30    29312\n",
      "29    28840\n",
      "31    17564\n",
      "Name: start_date, dtype: int64\n"
     ]
    }
   ],
   "source": [
    "date = merged[\"start_date\"].value_counts()\n",
    "date_month = pd.DatetimeIndex(merged['start_date']).month.value_counts()\n",
    "date_day = pd.DatetimeIndex(merged['start_date']).day.value_counts()\n",
    "print(\"start_date_distribution\", date)\n",
    "print(\"start_date_distribution_by_month\", date_month)\n",
    "print(\"start_date_distribution_by_day\", date_day)"
   ]
  },
  {
   "cell_type": "code",
   "execution_count": 177,
   "metadata": {},
   "outputs": [
    {
     "data": {
      "text/plain": [
       "<BarContainer object of 12 artists>"
      ]
     },
     "execution_count": 177,
     "metadata": {},
     "output_type": "execute_result"
    },
    {
     "data": {
      "image/png": "[encoded data removed]",
      "text/plain": [
       "<Figure size 432x288 with 1 Axes>"
      ]
     },
     "metadata": {
      "needs_background": "light"
     },
     "output_type": "display_data"
    }
   ],
   "source": [
    "plt.bar(date_month.keys(), date_month.tolist())"
   ]
  },
  {
   "cell_type": "code",
   "execution_count": 174,
   "metadata": {},
   "outputs": [
    {
     "data": {
      "text/plain": [
       "<BarContainer object of 31 artists>"
      ]
     },
     "execution_count": 174,
     "metadata": {},
     "output_type": "execute_result"
    },
    {
     "data": {
      "image/png": "[encoded data removed]",
      "text/plain": [
       "<Figure size 432x288 with 1 Axes>"
      ]
     },
     "metadata": {
      "needs_background": "light"
     },
     "output_type": "display_data"
    }
   ],
   "source": [
    "plt.bar(date_day.keys(), date_day.tolist())"
   ]
  },
  {
   "cell_type": "markdown",
   "metadata": {},
   "source": [
    "### **Average user:**\n",
    "- **Country** : US\n",
    "- **Age** : ~38.5\n",
    "- **Gender** : Male\n",
    "- **Start date** : 09 May 2018"
   ]
  },
  {
   "cell_type": "markdown",
   "metadata": {},
   "source": [
    "# 1. country"
   ]
  },
  {
   "cell_type": "code",
   "execution_count": 187,
   "metadata": {},
   "outputs": [
    {
     "data": {
      "text/plain": [
       "US    171241\n",
       "PL     53513\n",
       "NL     49113\n",
       "DE     36760\n",
       "UK     28849\n",
       "FR     25330\n",
       "DK     24817\n",
       "CZ     22051\n",
       "IT     13831\n",
       "FI     12929\n",
       "ES      2204\n",
       "Name: country, dtype: int64"
      ]
     },
     "execution_count": 187,
     "metadata": {},
     "output_type": "execute_result"
    }
   ],
   "source": [
    "product2.country.value_counts()"
   ]
  },
  {
   "cell_type": "code",
   "execution_count": 188,
   "metadata": {},
   "outputs": [],
   "source": [
    "country1 = product1.country.value_counts()\n",
    "country2 = product2.country.value_counts()"
   ]
  },
  {
   "cell_type": "code",
   "execution_count": 189,
   "metadata": {},
   "outputs": [
    {
     "data": {
      "text/plain": [
       "<AxesSubplot:title={'center':'all_users'}>"
      ]
     },
     "execution_count": 189,
     "metadata": {},
     "output_type": "execute_result"
    },
    {
     "data": {
      "image/png": "[encoded data removed]",
      "text/plain": [
       "<Figure size 1080x288 with 3 Axes>"
      ]
     },
     "metadata": {
      "needs_background": "light"
     },
     "output_type": "display_data"
    }
   ],
   "source": [
    "# 通过 series中的plot方法进行指定是哪一个子图\n",
    "fig, axs = plt.subplots(1, 3, figsize=(15,4))\n",
    "country1.plot(ax=axs[0], kind='bar', title='prod_A')\n",
    "country2.plot(ax=axs[1], kind='bar', title='prod_B')\n",
    "country_all.plot(ax=axs[2], kind='bar', title='all_users')"
   ]
  },
  {
   "cell_type": "markdown",
   "metadata": {},
   "source": [
    "# 2. age"
   ]
  },
  {
   "cell_type": "code",
   "execution_count": 194,
   "metadata": {},
   "outputs": [],
   "source": [
    "age1 = product1.drop_duplicates(['user_id'])\n",
    "age2 = product2.drop_duplicates(['user_id'])\n",
    "age = merged.drop_duplicates(['user_id'])"
   ]
  },
  {
   "cell_type": "code",
   "execution_count": 195,
   "metadata": {},
   "outputs": [
    {
     "name": "stdout",
     "output_type": "stream",
     "text": [
      "38.152477284913125 34.632018923205116 33.28667166666666\n"
     ]
    }
   ],
   "source": [
    "print(age1.describe()['age']['mean'], age2.describe()['age']['mean'], age.describe()['age']['mean'])"
   ]
  },
  {
   "cell_type": "code",
   "execution_count": 217,
   "metadata": {},
   "outputs": [
    {
     "data": {
      "text/plain": [
       "<AxesSubplot:title={'center':'age_distribution_all'}, ylabel='Frequency'>"
      ]
     },
     "execution_count": 217,
     "metadata": {},
     "output_type": "execute_result"
    },
    {
     "data": {
      "image/png": "[encoded data removed]",
      "text/plain": [
       "<Figure size 1080x288 with 3 Axes>"
      ]
     },
     "metadata": {
      "needs_background": "light"
     },
     "output_type": "display_data"
    }
   ],
   "source": [
    "fig, axs = plt.subplots(1, 3, figsize=(15,4))\n",
    "age1['age'].plot(ax=axs[0], kind='hist', edgecolor=\"k\", title='age_distribution_prodA')\n",
    "age2['age'].plot(ax=axs[1], kind='hist', edgecolor=\"k\", title='age_distribution_prodB')\n",
    "age['age'].plot(ax=axs[2], kind='hist',edgecolor=\"k\", title='age_distribution_all')"
   ]
  },
  {
   "cell_type": "markdown",
   "metadata": {},
   "source": [
    "# 3. gender"
   ]
  },
  {
   "cell_type": "code",
   "execution_count": 227,
   "metadata": {},
   "outputs": [
    {
     "name": "stdout",
     "output_type": "stream",
     "text": [
      "male       518454\n",
      "female     201924\n",
      "unknown     50396\n",
      "Name: gender, dtype: int64 male       296301\n",
      "female     115596\n",
      "unknown     28741\n",
      "Name: gender, dtype: int64\n"
     ]
    },
    {
     "data": {
      "text/plain": [
       "<AxesSubplot:title={'center':'all_users_gender'}>"
      ]
     },
     "execution_count": 227,
     "metadata": {},
     "output_type": "execute_result"
    },
    {
     "data": {
      "image/png": "[encoded data removed]",
      "text/plain": [
       "<Figure size 1080x288 with 3 Axes>"
      ]
     },
     "metadata": {
      "needs_background": "light"
     },
     "output_type": "display_data"
    }
   ],
   "source": [
    "genderA = product1['gender'].value_counts()\n",
    "genderB = product2['gender'].value_counts()\n",
    "gender_all = merged['gender'].value_counts()\n",
    "print(genderA, genderB)\n",
    "fig2, axs2 = plt.subplots(1, 3, figsize=(15,4))\n",
    "genderA.plot(ax=axs2[0], kind='bar', title='genderA')\n",
    "genderB.plot(ax=axs2[1], kind='bar', title='genderB')\n",
    "gender_all.plot(ax=axs2[2],kind='bar', title='all_users_gender')"
   ]
  },
  {
   "cell_type": "markdown",
   "metadata": {},
   "source": [
    "# 4. start date"
   ]
  },
  {
   "cell_type": "code",
   "execution_count": 230,
   "metadata": {},
   "outputs": [
    {
     "data": {
      "text/plain": [
       "<BarContainer object of 12 artists>"
      ]
     },
     "execution_count": 230,
     "metadata": {},
     "output_type": "execute_result"
    },
    {
     "data": {
      "image/png": "[encoded data removed]",
      "text/plain": [
       "<Figure size 432x288 with 1 Axes>"
      ]
     },
     "metadata": {
      "needs_background": "light"
     },
     "output_type": "display_data"
    }
   ],
   "source": [
    "dateA = product1[\"start_date\"].value_counts()\n",
    "date_monthA = pd.DatetimeIndex(product1['start_date']).month.value_counts()\n",
    "date_dayA = pd.DatetimeIndex(product1['start_date']).day.value_counts()\n",
    "plt.bar(date_monthA.keys(), date_monthA.tolist())"
   ]
  },
  {
   "cell_type": "code",
   "execution_count": 232,
   "metadata": {},
   "outputs": [
    {
     "data": {
      "text/plain": [
       "<BarContainer object of 31 artists>"
      ]
     },
     "execution_count": 232,
     "metadata": {},
     "output_type": "execute_result"
    },
    {
     "data": {
      "image/png": "[encoded data removed]",
      "text/plain": [
       "<Figure size 432x288 with 1 Axes>"
      ]
     },
     "metadata": {
      "needs_background": "light"
     },
     "output_type": "display_data"
    }
   ],
   "source": [
    "plt.bar(date_dayA.keys(), date_dayA.tolist())"
   ]
  },
  {
   "cell_type": "code",
   "execution_count": 231,
   "metadata": {},
   "outputs": [
    {
     "data": {
      "text/plain": [
       "<BarContainer object of 12 artists>"
      ]
     },
     "execution_count": 231,
     "metadata": {},
     "output_type": "execute_result"
    },
    {
     "data": {
      "image/png": "[encoded data removed]",
      "text/plain": [
       "<Figure size 432x288 with 1 Axes>"
      ]
     },
     "metadata": {
      "needs_background": "light"
     },
     "output_type": "display_data"
    }
   ],
   "source": [
    "dateB = product2[\"start_date\"].value_counts()\n",
    "date_monthB = pd.DatetimeIndex(product2['start_date']).month.value_counts()\n",
    "date_dayB = pd.DatetimeIndex(product2['start_date']).day.value_counts()\n",
    "plt.bar(date_monthB.keys(), date_monthB.tolist())"
   ]
  },
  {
   "cell_type": "code",
   "execution_count": 234,
   "metadata": {},
   "outputs": [
    {
     "data": {
      "text/plain": [
       "<BarContainer object of 31 artists>"
      ]
     },
     "execution_count": 234,
     "metadata": {},
     "output_type": "execute_result"
    },
    {
     "data": {
      "image/png": "[encoded data removed]",
      "text/plain": [
       "<Figure size 432x288 with 1 Axes>"
      ]
     },
     "metadata": {
      "needs_background": "light"
     },
     "output_type": "display_data"
    }
   ],
   "source": [
    "plt.bar(date_dayB.keys(), date_dayB.tolist())"
   ]
  },
  {
   "cell_type": "markdown",
   "metadata": {},
   "source": [
    "# 5. frequency_buying"
   ]
  },
  {
   "cell_type": "code",
   "execution_count": 75,
   "metadata": {},
   "outputs": [
    {
     "name": "stdout",
     "output_type": "stream",
     "text": [
      "5699415    15\n",
      "1720409    13\n",
      "4457476    13\n",
      "3117556    13\n",
      "1776320    12\n",
      "           ..\n",
      "7852005     1\n",
      "1558500     1\n",
      "1617050     1\n",
      "6543295     1\n",
      "3619449     1\n",
      "Name: userid, Length: 345035, dtype: int64 7536739    8\n",
      "8050324    7\n",
      "3064133    7\n",
      "2843346    7\n",
      "2298861    6\n",
      "          ..\n",
      "9407137    1\n",
      "9071261    1\n",
      "6709916    1\n",
      "6443674    1\n",
      "2621440    1\n",
      "Name: userid, Length: 186015, dtype: int64\n"
     ]
    }
   ],
   "source": [
    "print(merged_1.userid.value_counts(), merged_2.userid.value_counts())"
   ]
  },
  {
   "cell_type": "code",
   "execution_count": 238,
   "metadata": {},
   "outputs": [
    {
     "data": {
      "text/plain": [
       "(array([2.60017e+05, 4.30490e+04, 3.30290e+04, 5.14100e+03, 2.40500e+03,\n",
       "        1.22900e+03, 1.23000e+02, 3.80000e+01, 3.00000e+00, 1.00000e+00]),\n",
       " array([ 1. ,  2.4,  3.8,  5.2,  6.6,  8. ,  9.4, 10.8, 12.2, 13.6, 15. ]),\n",
       " <BarContainer object of 10 artists>)"
      ]
     },
     "execution_count": 238,
     "metadata": {},
     "output_type": "execute_result"
    },
    {
     "data": {
      "image/png": "[encoded data removed]",
      "text/plain": [
       "<Figure size 432x288 with 1 Axes>"
      ]
     },
     "metadata": {
      "needs_background": "light"
     },
     "output_type": "display_data"
    }
   ],
   "source": [
    "plt.hist(merged_1.userid.value_counts().tolist(), log=True)"
   ]
  },
  {
   "cell_type": "code",
   "execution_count": 237,
   "metadata": {},
   "outputs": [
    {
     "data": {
      "text/plain": [
       "(array([1.46511e+05, 3.24350e+04, 5.97300e+03, 0.00000e+00, 9.49000e+02,\n",
       "        1.30000e+02, 0.00000e+00, 1.30000e+01, 3.00000e+00, 1.00000e+00]),\n",
       " array([1. , 1.7, 2.4, 3.1, 3.8, 4.5, 5.2, 5.9, 6.6, 7.3, 8. ]),\n",
       " <BarContainer object of 10 artists>)"
      ]
     },
     "execution_count": 237,
     "metadata": {},
     "output_type": "execute_result"
    },
    {
     "data": {
      "image/png": "[encoded data removed]",
      "text/plain": [
       "<Figure size 432x288 with 1 Axes>"
      ]
     },
     "metadata": {
      "needs_background": "light"
     },
     "output_type": "display_data"
    }
   ],
   "source": [
    "plt.hist(merged_2.userid.value_counts().tolist(), log=True)"
   ]
  },
  {
   "cell_type": "code",
   "execution_count": null,
   "metadata": {},
   "outputs": [],
   "source": []
  }
 ],
 "metadata": {
  "kernelspec": {
   "display_name": "Python 3",
   "language": "python",
   "name": "python3"
  },
  "language_info": {
   "codemirror_mode": {
    "name": "ipython",
    "version": 3
   },
   "file_extension": ".py",
   "mimetype": "text/x-python",
   "name": "python",
   "nbconvert_exporter": "python",
   "pygments_lexer": "ipython3",
   "version": "3.7.9"
  }
 },
 "nbformat": 4,
 "nbformat_minor": 4
}
