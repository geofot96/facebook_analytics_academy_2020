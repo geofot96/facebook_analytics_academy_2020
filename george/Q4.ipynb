{
 "cells": [
  {
   "cell_type": "code",
   "execution_count": 1,
   "metadata": {},
   "outputs": [],
   "source": [
    "import numpy as np\n",
    "import pandas as pd"
   ]
  },
  {
   "cell_type": "code",
   "execution_count": 7,
   "metadata": {},
   "outputs": [],
   "source": [
    "df = pd.read_csv(\"./merged_dataset.csv\")"
   ]
  },
  {
   "cell_type": "code",
   "execution_count": 8,
   "metadata": {},
   "outputs": [
    {
     "data": {
      "text/html": [
       "<div>\n",
       "<style scoped>\n",
       "    .dataframe tbody tr th:only-of-type {\n",
       "        vertical-align: middle;\n",
       "    }\n",
       "\n",
       "    .dataframe tbody tr th {\n",
       "        vertical-align: top;\n",
       "    }\n",
       "\n",
       "    .dataframe thead th {\n",
       "        text-align: right;\n",
       "    }\n",
       "</style>\n",
       "<table border=\"1\" class=\"dataframe\">\n",
       "  <thead>\n",
       "    <tr style=\"text-align: right;\">\n",
       "      <th></th>\n",
       "      <th>user_id</th>\n",
       "      <th>country</th>\n",
       "      <th>age</th>\n",
       "      <th>gender</th>\n",
       "      <th>start_date</th>\n",
       "      <th>ds1</th>\n",
       "      <th>ds2</th>\n",
       "    </tr>\n",
       "  </thead>\n",
       "  <tbody>\n",
       "    <tr>\n",
       "      <th>0</th>\n",
       "      <td>9541124</td>\n",
       "      <td>DK</td>\n",
       "      <td>22</td>\n",
       "      <td>male</td>\n",
       "      <td>2018-05-05</td>\n",
       "      <td>NaN</td>\n",
       "      <td>2020-10-25</td>\n",
       "    </tr>\n",
       "    <tr>\n",
       "      <th>1</th>\n",
       "      <td>5946065</td>\n",
       "      <td>US</td>\n",
       "      <td>15</td>\n",
       "      <td>male</td>\n",
       "      <td>2018-01-24</td>\n",
       "      <td>2020-03-08</td>\n",
       "      <td>NaN</td>\n",
       "    </tr>\n",
       "    <tr>\n",
       "      <th>2</th>\n",
       "      <td>4180986</td>\n",
       "      <td>US</td>\n",
       "      <td>32</td>\n",
       "      <td>female</td>\n",
       "      <td>2018-12-17</td>\n",
       "      <td>NaN</td>\n",
       "      <td>NaN</td>\n",
       "    </tr>\n",
       "    <tr>\n",
       "      <th>3</th>\n",
       "      <td>5533917</td>\n",
       "      <td>US</td>\n",
       "      <td>70</td>\n",
       "      <td>male</td>\n",
       "      <td>2018-03-07</td>\n",
       "      <td>2020-01-11</td>\n",
       "      <td>2020-08-20</td>\n",
       "    </tr>\n",
       "    <tr>\n",
       "      <th>4</th>\n",
       "      <td>5533917</td>\n",
       "      <td>US</td>\n",
       "      <td>70</td>\n",
       "      <td>male</td>\n",
       "      <td>2018-03-07</td>\n",
       "      <td>2020-02-13</td>\n",
       "      <td>2020-08-20</td>\n",
       "    </tr>\n",
       "    <tr>\n",
       "      <th>...</th>\n",
       "      <td>...</td>\n",
       "      <td>...</td>\n",
       "      <td>...</td>\n",
       "      <td>...</td>\n",
       "      <td>...</td>\n",
       "      <td>...</td>\n",
       "      <td>...</td>\n",
       "    </tr>\n",
       "    <tr>\n",
       "      <th>1039668</th>\n",
       "      <td>9633050</td>\n",
       "      <td>US</td>\n",
       "      <td>25</td>\n",
       "      <td>male</td>\n",
       "      <td>2018-10-17</td>\n",
       "      <td>2020-04-30</td>\n",
       "      <td>NaN</td>\n",
       "    </tr>\n",
       "    <tr>\n",
       "      <th>1039669</th>\n",
       "      <td>8303701</td>\n",
       "      <td>US</td>\n",
       "      <td>19</td>\n",
       "      <td>male</td>\n",
       "      <td>2018-11-29</td>\n",
       "      <td>2020-01-18</td>\n",
       "      <td>NaN</td>\n",
       "    </tr>\n",
       "    <tr>\n",
       "      <th>1039670</th>\n",
       "      <td>4645036</td>\n",
       "      <td>US</td>\n",
       "      <td>49</td>\n",
       "      <td>female</td>\n",
       "      <td>2018-05-16</td>\n",
       "      <td>2020-03-23</td>\n",
       "      <td>NaN</td>\n",
       "    </tr>\n",
       "    <tr>\n",
       "      <th>1039671</th>\n",
       "      <td>4060972</td>\n",
       "      <td>US</td>\n",
       "      <td>47</td>\n",
       "      <td>male</td>\n",
       "      <td>2018-03-27</td>\n",
       "      <td>2020-09-05</td>\n",
       "      <td>2020-08-21</td>\n",
       "    </tr>\n",
       "    <tr>\n",
       "      <th>1039672</th>\n",
       "      <td>5576368</td>\n",
       "      <td>US</td>\n",
       "      <td>47</td>\n",
       "      <td>male</td>\n",
       "      <td>2018-05-20</td>\n",
       "      <td>2020-02-02</td>\n",
       "      <td>NaN</td>\n",
       "    </tr>\n",
       "  </tbody>\n",
       "</table>\n",
       "<p>1039673 rows × 7 columns</p>\n",
       "</div>"
      ],
      "text/plain": [
       "         user_id country  age  gender  start_date         ds1         ds2\n",
       "0        9541124      DK   22    male  2018-05-05         NaN  2020-10-25\n",
       "1        5946065      US   15    male  2018-01-24  2020-03-08         NaN\n",
       "2        4180986      US   32  female  2018-12-17         NaN         NaN\n",
       "3        5533917      US   70    male  2018-03-07  2020-01-11  2020-08-20\n",
       "4        5533917      US   70    male  2018-03-07  2020-02-13  2020-08-20\n",
       "...          ...     ...  ...     ...         ...         ...         ...\n",
       "1039668  9633050      US   25    male  2018-10-17  2020-04-30         NaN\n",
       "1039669  8303701      US   19    male  2018-11-29  2020-01-18         NaN\n",
       "1039670  4645036      US   49  female  2018-05-16  2020-03-23         NaN\n",
       "1039671  4060972      US   47    male  2018-03-27  2020-09-05  2020-08-21\n",
       "1039672  5576368      US   47    male  2018-05-20  2020-02-02         NaN\n",
       "\n",
       "[1039673 rows x 7 columns]"
      ]
     },
     "execution_count": 8,
     "metadata": {},
     "output_type": "execute_result"
    }
   ],
   "source": [
    "df"
   ]
  },
  {
   "cell_type": "code",
   "execution_count": 17,
   "metadata": {},
   "outputs": [],
   "source": [
    "pA = 1 - df[\"ds1\"].isna().sum() / len(df[\"ds1\"])"
   ]
  },
  {
   "cell_type": "code",
   "execution_count": 18,
   "metadata": {},
   "outputs": [],
   "source": [
    "pB = 1 - df[\"ds2\"].isna().sum() / len(df[\"ds2\"])"
   ]
  },
  {
   "cell_type": "code",
   "execution_count": 23,
   "metadata": {},
   "outputs": [],
   "source": [
    "aANDb = len(df.dropna()) / len(df)"
   ]
  },
  {
   "cell_type": "code",
   "execution_count": 24,
   "metadata": {},
   "outputs": [],
   "source": [
    "acondb = aANDb / pB"
   ]
  },
  {
   "cell_type": "code",
   "execution_count": 25,
   "metadata": {},
   "outputs": [],
   "source": [
    "bconda = aANDb / pA"
   ]
  },
  {
   "cell_type": "code",
   "execution_count": 26,
   "metadata": {},
   "outputs": [
    {
     "data": {
      "text/plain": [
       "0.8160349311679882"
      ]
     },
     "execution_count": 26,
     "metadata": {},
     "output_type": "execute_result"
    }
   ],
   "source": [
    "acondb"
   ]
  },
  {
   "cell_type": "code",
   "execution_count": 27,
   "metadata": {},
   "outputs": [
    {
     "data": {
      "text/plain": [
       "0.46651288185641965"
      ]
     },
     "execution_count": 27,
     "metadata": {},
     "output_type": "execute_result"
    }
   ],
   "source": [
    "bconda"
   ]
  },
  {
   "cell_type": "code",
   "execution_count": null,
   "metadata": {},
   "outputs": [],
   "source": []
  }
 ],
 "metadata": {
  "kernelspec": {
   "display_name": "Python 3",
   "language": "python",
   "name": "python3"
  },
  "language_info": {
   "codemirror_mode": {
    "name": "ipython",
    "version": 3
   },
   "file_extension": ".py",
   "mimetype": "text/x-python",
   "name": "python",
   "nbconvert_exporter": "python",
   "pygments_lexer": "ipython3",
   "version": "3.7.9"
  }
 },
 "nbformat": 4,
 "nbformat_minor": 4
}
